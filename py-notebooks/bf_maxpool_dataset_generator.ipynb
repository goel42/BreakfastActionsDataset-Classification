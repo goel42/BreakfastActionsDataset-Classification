{
 "cells": [
  {
   "cell_type": "code",
   "execution_count": 73,
   "metadata": {},
   "outputs": [],
   "source": [
    "import os\n",
    "from itertools import groupby\n",
    "\n",
    "import numpy as np"
   ]
  },
  {
   "cell_type": "code",
   "execution_count": 74,
   "metadata": {},
   "outputs": [],
   "source": [
    "def __get_data__(vis_feat_path, action_label_path, stoi,itos, mode, svp, stp):\n",
    "\n",
    "\n",
    "    vis_files = os.listdir(vis_feat_path)\n",
    "    label_files = os.listdir(action_label_path)\n",
    "\n",
    "    for vf, lf in zip(vis_files, label_files):\n",
    "        vis_feats_all = []\n",
    "        labels_all = []\n",
    "        feats = np.load(os.path.join(vis_feat_path, vf))\n",
    "        labels = __get_labels__(os.path.join(action_label_path, lf))\n",
    "        labels = [stoi[label] for label in labels]\n",
    "        labels = np.array(labels)\n",
    "\n",
    "        # thee are both cases where label < feats and feats < labels\n",
    "        # Temp Debug. #TODO remove after dataset cleaning\n",
    "        if feats.shape[0] != labels.shape[0]:\n",
    "            # if labels.shape[0] > feats.shape[0] :\n",
    "            #     print(\"FATAL! There are files where frames are more than visual features\")\n",
    "            #     print(feats.shape, labels.shape)\n",
    "            #     print(vf)\n",
    "\n",
    "            min_len = min(feats.shape[0], labels.shape[0])\n",
    "            feats = feats[:min_len, :]\n",
    "            labels = labels[:min_len]\n",
    "\n",
    "        assert feats.shape[0] == labels.shape[0]\n",
    "\n",
    "        # caveat: itertools.groupby works only when the input is sorted.\n",
    "        # i.e. when all identical keys are together.\n",
    "        # this works well in our case because we want ( SIL at start) and (SIL at end) to be grouped separately\n",
    "        for label, group in groupby(zip(labels, feats), lambda x: x[0]):\n",
    "            grouped_feats = [group_item[1] for group_item in group]\n",
    "            grouped_feats = np.array(grouped_feats)\n",
    "\n",
    "            feat_maxpooled = np.amax(grouped_feats, axis=0)\n",
    "            vis_feats_all.append(feat_maxpooled)\n",
    "\n",
    "            labels_all.append(label)\n",
    "        np.save(os.path.join(svp, vf), vis_feats_all)\n",
    "        with open(os.path.join(stp,lf), \"w\") as output:\n",
    "            for label in labels_all:\n",
    "                output.write(\"%s\\n\" % itos[label])\n",
    "        \n",
    "    return {\"vis_feats\": vis_feats_all, \"labels\": labels_all}"
   ]
  },
  {
   "cell_type": "code",
   "execution_count": 75,
   "metadata": {},
   "outputs": [],
   "source": [
    "def __get_map__(path, inv=False):\n",
    "    \"\"\"\n",
    "    returns\n",
    "    if inv == False : a dictionary of label_strings to integer\n",
    "    else: a dictionary of integer to label_strings\n",
    "    \"\"\"\n",
    "\n",
    "    m = {}\n",
    "    with open(path, \"r\") as f:\n",
    "        text = f.readlines()\n",
    "\n",
    "    for line in text:\n",
    "        temp = line.strip().split()\n",
    "        num, activity = int(temp[0]), temp[1]\n",
    "        if inv:\n",
    "            m[num] = activity\n",
    "        else:\n",
    "            m[activity] = num\n",
    "\n",
    "    return m\n",
    "\n",
    "\n",
    "def __get_labels__(path):\n",
    "    with open(path, \"r\") as f:\n",
    "        labels = f.readlines()\n",
    "    labels = [label.strip() for label in labels]\n",
    "    return labels\n",
    "\n"
   ]
  },
  {
   "cell_type": "code",
   "execution_count": 78,
   "metadata": {},
   "outputs": [],
   "source": [
    "stoi = __get_map__(r\"C:\\Users\\dcsang\\PycharmProjects\\embedding\\breakfast\\Breakfast_fs\\splits\\mapping_bf.txt\")\n",
    "itos = __get_map__(r\"C:\\Users\\dcsang\\PycharmProjects\\embedding\\breakfast\\Breakfast_fs\\splits\\mapping_bf.txt\", inv = True)\n",
    "mode = \"test\"\n",
    "root_path = r\"C:\\Users\\dcsang\\PycharmProjects\\embedding\\breakfast\\Breakfast_fs\"\n",
    "vp = os.path.join(root_path, \"data_npy\", mode)\n",
    "tp = os.path.join(root_path, \"groundTruth\", mode)\n",
    "\n",
    "svp = os.path.join(root_path, \"data_maxpool\", mode)\n",
    "stp = os.path.join(root_path, \"groundTruth_maxpool\", mode)\n",
    "\n",
    "\n"
   ]
  },
  {
   "cell_type": "code",
   "execution_count": 79,
   "metadata": {},
   "outputs": [],
   "source": [
    "a,b = __get_data__(vp, tp, stoi,itos, mode, svp, stp)"
   ]
  },
  {
   "cell_type": "code",
   "execution_count": null,
   "metadata": {},
   "outputs": [],
   "source": []
  },
  {
   "cell_type": "code",
   "execution_count": null,
   "metadata": {},
   "outputs": [],
   "source": []
  }
 ],
 "metadata": {
  "kernelspec": {
   "display_name": "Python 3",
   "language": "python",
   "name": "python3"
  },
  "language_info": {
   "codemirror_mode": {
    "name": "ipython",
    "version": 3
   },
   "file_extension": ".py",
   "mimetype": "text/x-python",
   "name": "python",
   "nbconvert_exporter": "python",
   "pygments_lexer": "ipython3",
   "version": "3.7.5"
  }
 },
 "nbformat": 4,
 "nbformat_minor": 2
}
