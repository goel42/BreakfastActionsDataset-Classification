{
 "cells": [
  {
   "cell_type": "code",
   "execution_count": 56,
   "metadata": {},
   "outputs": [
    {
     "name": "stdout",
     "output_type": "stream",
     "text": [
      "[[ 0  1  2  3  4]\n",
      " [ 0  1  2  3  4]\n",
      " [ 0  1  2  3  4]\n",
      " [ 5  6  7  8  9]\n",
      " [ 5  6  7  8  9]\n",
      " [ 5  6  7  8  9]\n",
      " [10 11 12 13 14]\n",
      " [10 11 12 13 14]\n",
      " [10 11 12 13 14]\n",
      " [15 16 17 18 19]\n",
      " [15 16 17 18 19]\n",
      " [15 16 17 18 19]\n",
      " [20 21 22 23 24]\n",
      " [20 21 22 23 24]\n",
      " [20 21 22 23 24]\n",
      " [25 26 27 28 29]\n",
      " [25 26 27 28 29]\n",
      " [25 26 27 28 29]\n",
      " [30 31 32 33 34]\n",
      " [30 31 32 33 34]\n",
      " [30 31 32 33 34]\n",
      " [35 36 37 38 39]\n",
      " [35 36 37 38 39]\n",
      " [35 36 37 38 39]\n",
      " [40 41 42 43 44]\n",
      " [40 41 42 43 44]\n",
      " [40 41 42 43 44]\n",
      " [45 46 47 48 49]\n",
      " [45 46 47 48 49]\n",
      " [45 46 47 48 49]]\n",
      "['100' '100' '100' '101' '101' '101' '102' '102' '102' '103' '103' '103'\n",
      " '104' '104' '104' '105' '105' '105' '106' '106' '106' '107' '107' '107'\n",
      " '108' '108' '108' '109' '109' '109']\n"
     ]
    }
   ],
   "source": [
    "import numpy as np\n",
    "from itertools import groupby\n",
    "\n",
    "f = np.arange(50).reshape([10,5])\n",
    "l =  np.arange(10) + 100\n",
    "l = l.astype(str)\n",
    "feats = []\n",
    "labels = []\n",
    "\n",
    "for f1, l1 in zip(f,l):\n",
    "    for _ in range(3):\n",
    "        feats.append(f1)\n",
    "        labels.append(l1)\n",
    "feats = np.array(feats)\n",
    "labels = np.array(labels)\n",
    "print(feats)\n",
    "print(labels)"
   ]
  },
  {
   "cell_type": "code",
   "execution_count": 57,
   "metadata": {},
   "outputs": [
    {
     "ename": "SyntaxError",
     "evalue": "Missing parentheses in call to 'print'. Did you mean print(key + \"s:  \" + listOfThings + \".\")? (<ipython-input-57-18f622b0f509>, line 3)",
     "output_type": "error",
     "traceback": [
      "\u001b[1;36m  File \u001b[1;32m\"<ipython-input-57-18f622b0f509>\"\u001b[1;36m, line \u001b[1;32m3\u001b[0m\n\u001b[1;33m    print key + \"s:  \" + listOfThings + \".\"\u001b[0m\n\u001b[1;37m            ^\u001b[0m\n\u001b[1;31mSyntaxError\u001b[0m\u001b[1;31m:\u001b[0m Missing parentheses in call to 'print'. Did you mean print(key + \"s:  \" + listOfThings + \".\")?\n"
     ]
    }
   ],
   "source": [
    "for key, group in groupby(things, lambda x: x[0]):\n",
    "    listOfThings = \" and \".join([thing[1] for thing in group])\n",
    "    print key + \"s:  \" + listOfThings + \".\""
   ]
  },
  {
   "cell_type": "code",
   "execution_count": 59,
   "metadata": {},
   "outputs": [
    {
     "name": "stdout",
     "output_type": "stream",
     "text": [
      "<class 'numpy.str_'>\n",
      "[0 1 2 3 4]\n",
      "<class 'numpy.str_'>\n",
      "[5 6 7 8 9]\n",
      "<class 'numpy.str_'>\n",
      "[10 11 12 13 14]\n",
      "<class 'numpy.str_'>\n",
      "[15 16 17 18 19]\n",
      "<class 'numpy.str_'>\n",
      "[20 21 22 23 24]\n",
      "<class 'numpy.str_'>\n",
      "[25 26 27 28 29]\n",
      "<class 'numpy.str_'>\n",
      "[30 31 32 33 34]\n",
      "<class 'numpy.str_'>\n",
      "[35 36 37 38 39]\n",
      "<class 'numpy.str_'>\n",
      "[40 41 42 43 44]\n",
      "<class 'numpy.str_'>\n",
      "[45 46 47 48 49]\n"
     ]
    }
   ],
   "source": [
    "for label, group in groupby(zip(labels,feats), lambda x:x[0]):\n",
    "    grouped_feats = [thing[1] for thing in group]\n",
    "    grouped_feats = np.array(grouped_feats)\n",
    "    feat_maxpooled = np.amax(grouped_feats, axis= 0)\n",
    "    print(type(label))\n",
    "    print(feat_maxpooled)"
   ]
  },
  {
   "cell_type": "code",
   "execution_count": 60,
   "metadata": {},
   "outputs": [
    {
     "ename": "TypeError",
     "evalue": "ufunc 'add' did not contain a loop with signature matching types dtype('<U11') dtype('<U11') dtype('<U11')",
     "output_type": "error",
     "traceback": [
      "\u001b[1;31m---------------------------------------------------------------------------\u001b[0m",
      "\u001b[1;31mTypeError\u001b[0m                                 Traceback (most recent call last)",
      "\u001b[1;32m<ipython-input-60-b5093ad3648c>\u001b[0m in \u001b[0;36m<module>\u001b[1;34m\u001b[0m\n\u001b[0;32m      1\u001b[0m \u001b[0mll\u001b[0m \u001b[1;33m=\u001b[0m \u001b[0ml\u001b[0m\u001b[1;33m.\u001b[0m\u001b[0mastype\u001b[0m\u001b[1;33m(\u001b[0m\u001b[0mstr\u001b[0m\u001b[1;33m)\u001b[0m\u001b[1;33m\u001b[0m\u001b[1;33m\u001b[0m\u001b[0m\n\u001b[1;32m----> 2\u001b[1;33m \u001b[0mll\u001b[0m \u001b[1;33m=\u001b[0m \u001b[0mll\u001b[0m \u001b[1;33m+\u001b[0m\u001b[1;34m\"cr\"\u001b[0m\u001b[1;33m\u001b[0m\u001b[1;33m\u001b[0m\u001b[0m\n\u001b[0m",
      "\u001b[1;31mTypeError\u001b[0m: ufunc 'add' did not contain a loop with signature matching types dtype('<U11') dtype('<U11') dtype('<U11')"
     ]
    }
   ],
   "source": [
    "ll = l.astype(str)\n",
    "ll = ll +\"cr\""
   ]
  },
  {
   "cell_type": "code",
   "execution_count": 20,
   "metadata": {},
   "outputs": [],
   "source": [
    "k = list(feats)"
   ]
  },
  {
   "cell_type": "code",
   "execution_count": 21,
   "metadata": {},
   "outputs": [],
   "source": [
    "k.extend(k)"
   ]
  },
  {
   "cell_type": "code",
   "execution_count": 22,
   "metadata": {},
   "outputs": [
    {
     "data": {
      "text/plain": [
       "[array([0, 1, 2, 3, 4]),\n",
       " array([5, 6, 7, 8, 9]),\n",
       " array([10, 11, 12, 13, 14]),\n",
       " array([15, 16, 17, 18, 19]),\n",
       " array([20, 21, 22, 23, 24]),\n",
       " array([25, 26, 27, 28, 29]),\n",
       " array([30, 31, 32, 33, 34]),\n",
       " array([35, 36, 37, 38, 39]),\n",
       " array([40, 41, 42, 43, 44]),\n",
       " array([45, 46, 47, 48, 49]),\n",
       " array([0, 1, 2, 3, 4]),\n",
       " array([5, 6, 7, 8, 9]),\n",
       " array([10, 11, 12, 13, 14]),\n",
       " array([15, 16, 17, 18, 19]),\n",
       " array([20, 21, 22, 23, 24]),\n",
       " array([25, 26, 27, 28, 29]),\n",
       " array([30, 31, 32, 33, 34]),\n",
       " array([35, 36, 37, 38, 39]),\n",
       " array([40, 41, 42, 43, 44]),\n",
       " array([45, 46, 47, 48, 49])]"
      ]
     },
     "execution_count": 22,
     "metadata": {},
     "output_type": "execute_result"
    }
   ],
   "source": [
    "k"
   ]
  },
  {
   "cell_type": "code",
   "execution_count": 23,
   "metadata": {},
   "outputs": [
    {
     "data": {
      "text/plain": [
       "array([[0, 1],\n",
       "       [2, 3],\n",
       "       [4, 5],\n",
       "       [6, 7],\n",
       "       [8, 9]])"
      ]
     },
     "execution_count": 23,
     "metadata": {},
     "output_type": "execute_result"
    }
   ],
   "source": [
    "np.arange(10).reshape(5,2)"
   ]
  },
  {
   "cell_type": "code",
   "execution_count": 25,
   "metadata": {},
   "outputs": [
    {
     "data": {
      "text/plain": [
       "array([[0., 0., 0., 0.],\n",
       "       [0., 0., 0., 0.],\n",
       "       [0., 0., 0., 0.],\n",
       "       [0., 0., 0., 0.]])"
      ]
     },
     "execution_count": 25,
     "metadata": {},
     "output_type": "execute_result"
    }
   ],
   "source": [
    "np.zeros([4,4])"
   ]
  },
  {
   "cell_type": "code",
   "execution_count": 66,
   "metadata": {},
   "outputs": [],
   "source": [
    "def __get_map__(path, inv =False):\n",
    "    \n",
    "    m = {}\n",
    "    with open(path, \"r\") as f:\n",
    "        text = f.readlines()\n",
    "    \n",
    "    for line in text:\n",
    "        temp = line.strip().split()\n",
    "        num, activity = int(temp[0]), temp[1]\n",
    "        if inv:\n",
    "            m[num] = activity\n",
    "        else:\n",
    "            m[activity] = num\n",
    "    \n",
    "    return m\n"
   ]
  },
  {
   "cell_type": "code",
   "execution_count": 67,
   "metadata": {},
   "outputs": [],
   "source": [
    "p =  r\"C:\\Users\\dcsang\\Downloads\\mapping.txt\""
   ]
  },
  {
   "cell_type": "code",
   "execution_count": 68,
   "metadata": {},
   "outputs": [],
   "source": [
    "m1 = __get_map__(p)\n",
    "m2 = __get_map__(p, True)"
   ]
  },
  {
   "cell_type": "code",
   "execution_count": 69,
   "metadata": {},
   "outputs": [
    {
     "data": {
      "text/plain": [
       "{'SIL': 0,\n",
       " 'pour_cereals': 1,\n",
       " 'pour_milk': 2,\n",
       " 'stir_cereals': 3,\n",
       " 'take_bowl': 4,\n",
       " 'pour_coffee': 5,\n",
       " 'take_cup': 6,\n",
       " 'spoon_sugar': 7,\n",
       " 'stir_coffee': 8,\n",
       " 'pour_sugar': 9,\n",
       " 'pour_oil': 10,\n",
       " 'crack_egg': 11,\n",
       " 'add_saltnpepper': 12,\n",
       " 'fry_egg': 13,\n",
       " 'take_plate': 14,\n",
       " 'put_egg2plate': 15,\n",
       " 'take_eggs': 16,\n",
       " 'butter_pan': 17,\n",
       " 'take_knife': 18,\n",
       " 'cut_orange': 19,\n",
       " 'squeeze_orange': 20,\n",
       " 'pour_juice': 21,\n",
       " 'take_glass': 22,\n",
       " 'take_squeezer': 23,\n",
       " 'spoon_powder': 24,\n",
       " 'stir_milk': 25,\n",
       " 'spoon_flour': 26,\n",
       " 'stir_dough': 27,\n",
       " 'pour_dough2pan': 28,\n",
       " 'fry_pancake': 29,\n",
       " 'put_pancake2plate': 30,\n",
       " 'pour_flour': 31,\n",
       " 'cut_fruit': 32,\n",
       " 'put_fruit2bowl': 33,\n",
       " 'peel_fruit': 34,\n",
       " 'stir_fruit': 35,\n",
       " 'cut_bun': 36,\n",
       " 'smear_butter': 37,\n",
       " 'take_topping': 38,\n",
       " 'put_toppingOnTop': 39,\n",
       " 'put_bunTogether': 40,\n",
       " 'take_butter': 41,\n",
       " 'stir_egg': 42,\n",
       " 'pour_egg2pan': 43,\n",
       " 'stirfry_egg': 44,\n",
       " 'add_teabag': 45,\n",
       " 'pour_water': 46,\n",
       " 'stir_tea': 47}"
      ]
     },
     "execution_count": 69,
     "metadata": {},
     "output_type": "execute_result"
    }
   ],
   "source": [
    "m1"
   ]
  },
  {
   "cell_type": "code",
   "execution_count": 70,
   "metadata": {},
   "outputs": [
    {
     "data": {
      "text/plain": [
       "{0: 'SIL',\n",
       " 1: 'pour_cereals',\n",
       " 2: 'pour_milk',\n",
       " 3: 'stir_cereals',\n",
       " 4: 'take_bowl',\n",
       " 5: 'pour_coffee',\n",
       " 6: 'take_cup',\n",
       " 7: 'spoon_sugar',\n",
       " 8: 'stir_coffee',\n",
       " 9: 'pour_sugar',\n",
       " 10: 'pour_oil',\n",
       " 11: 'crack_egg',\n",
       " 12: 'add_saltnpepper',\n",
       " 13: 'fry_egg',\n",
       " 14: 'take_plate',\n",
       " 15: 'put_egg2plate',\n",
       " 16: 'take_eggs',\n",
       " 17: 'butter_pan',\n",
       " 18: 'take_knife',\n",
       " 19: 'cut_orange',\n",
       " 20: 'squeeze_orange',\n",
       " 21: 'pour_juice',\n",
       " 22: 'take_glass',\n",
       " 23: 'take_squeezer',\n",
       " 24: 'spoon_powder',\n",
       " 25: 'stir_milk',\n",
       " 26: 'spoon_flour',\n",
       " 27: 'stir_dough',\n",
       " 28: 'pour_dough2pan',\n",
       " 29: 'fry_pancake',\n",
       " 30: 'put_pancake2plate',\n",
       " 31: 'pour_flour',\n",
       " 32: 'cut_fruit',\n",
       " 33: 'put_fruit2bowl',\n",
       " 34: 'peel_fruit',\n",
       " 35: 'stir_fruit',\n",
       " 36: 'cut_bun',\n",
       " 37: 'smear_butter',\n",
       " 38: 'take_topping',\n",
       " 39: 'put_toppingOnTop',\n",
       " 40: 'put_bunTogether',\n",
       " 41: 'take_butter',\n",
       " 42: 'stir_egg',\n",
       " 43: 'pour_egg2pan',\n",
       " 44: 'stirfry_egg',\n",
       " 45: 'add_teabag',\n",
       " 46: 'pour_water',\n",
       " 47: 'stir_tea'}"
      ]
     },
     "execution_count": 70,
     "metadata": {},
     "output_type": "execute_result"
    }
   ],
   "source": [
    "m2"
   ]
  },
  {
   "cell_type": "code",
   "execution_count": 132,
   "metadata": {},
   "outputs": [
    {
     "data": {
      "text/plain": [
       "<module 'BreakfastNaive' from 'C:\\\\Users\\\\dcsang\\\\PycharmProjects\\\\feedfwdBF\\\\BreakfastNaive.py'>"
      ]
     },
     "execution_count": 132,
     "metadata": {},
     "output_type": "execute_result"
    }
   ],
   "source": [
    "import BreakfastNaive as BF\n",
    "import importlib\n",
    "importlib.reload(BF)"
   ]
  },
  {
   "cell_type": "code",
   "execution_count": 134,
   "metadata": {},
   "outputs": [],
   "source": [
    "visual_feat_path = r\"C:\\Users\\dcsang\\PycharmProjects\\embedding\\breakfast\\bf_kinetics_feat\"\n",
    "text_path = r\"C:\\Users\\dcsang\\PycharmProjects\\embedding\\breakfast\\groundTruth\"\n",
    "map_path = r\"C:\\Users\\dcsang\\PycharmProjects\\embedding\\breakfast\\mapping.txt\"\n",
    "\n",
    "dataset = BF.BreakfastNaive(visual_feat_path, text_path, map_path)"
   ]
  },
  {
   "cell_type": "code",
   "execution_count": 135,
   "metadata": {},
   "outputs": [
    {
     "data": {
      "text/plain": [
       "11656"
      ]
     },
     "execution_count": 135,
     "metadata": {},
     "output_type": "execute_result"
    }
   ],
   "source": [
    "len(dataset)"
   ]
  },
  {
   "cell_type": "code",
   "execution_count": 137,
   "metadata": {},
   "outputs": [
    {
     "ename": "IndexError",
     "evalue": "list index out of range",
     "output_type": "error",
     "traceback": [
      "\u001b[1;31m---------------------------------------------------------------------------\u001b[0m",
      "\u001b[1;31mIndexError\u001b[0m                                Traceback (most recent call last)",
      "\u001b[1;32m<ipython-input-137-4befe6255b2c>\u001b[0m in \u001b[0;36m<module>\u001b[1;34m\u001b[0m\n\u001b[1;32m----> 1\u001b[1;33m \u001b[0mdataset\u001b[0m\u001b[1;33m[\u001b[0m\u001b[1;36m11656\u001b[0m\u001b[1;33m]\u001b[0m\u001b[1;33m\u001b[0m\u001b[1;33m\u001b[0m\u001b[0m\n\u001b[0m",
      "\u001b[1;32m~\\PycharmProjects\\feedfwdBF\\BreakfastNaive.py\u001b[0m in \u001b[0;36m__getitem__\u001b[1;34m(self, idx)\u001b[0m\n\u001b[0;32m     90\u001b[0m \u001b[1;33m\u001b[0m\u001b[0m\n\u001b[0;32m     91\u001b[0m     \u001b[1;32mdef\u001b[0m \u001b[0m__getitem__\u001b[0m\u001b[1;33m(\u001b[0m\u001b[0mself\u001b[0m\u001b[1;33m,\u001b[0m \u001b[0midx\u001b[0m\u001b[1;33m)\u001b[0m\u001b[1;33m:\u001b[0m\u001b[1;33m\u001b[0m\u001b[1;33m\u001b[0m\u001b[0m\n\u001b[1;32m---> 92\u001b[1;33m         return {\"vis_feats\": self.data[\"vis_feats\"][idx],\n\u001b[0m\u001b[0;32m     93\u001b[0m                 \"labels\": self.data[\"labels\"][idx]}\n",
      "\u001b[1;31mIndexError\u001b[0m: list index out of range"
     ]
    }
   ],
   "source": [
    "dataset[11656]"
   ]
  },
  {
   "cell_type": "code",
   "execution_count": 140,
   "metadata": {},
   "outputs": [
    {
     "data": {
      "text/plain": [
       "11656"
      ]
     },
     "execution_count": 140,
     "metadata": {},
     "output_type": "execute_result"
    }
   ],
   "source": [
    "len(dataset.data['vis_feats'])"
   ]
  },
  {
   "cell_type": "code",
   "execution_count": 184,
   "metadata": {},
   "outputs": [],
   "source": [
    "import torch"
   ]
  },
  {
   "cell_type": "code",
   "execution_count": 185,
   "metadata": {},
   "outputs": [],
   "source": [
    "train_loader = torch.utils.data.DataLoader(dataset=dataset, \n",
    "                                           batch_size=200, \n",
    "                                           shuffle=True)"
   ]
  },
  {
   "cell_type": "code",
   "execution_count": 187,
   "metadata": {},
   "outputs": [
    {
     "name": "stdout",
     "output_type": "stream",
     "text": [
      "torch.Size([200, 2048])\n",
      "torch.Size([200])\n",
      "torch.int32\n",
      "False\n"
     ]
    }
   ],
   "source": [
    "for i, data in enumerate(train_loader):\n",
    "\n",
    "    print(data[\"vis_feats\"].shape)\n",
    "    print(data[\"labels\"].shape)\n",
    "    print(data[\"labels\"].dtype)\n",
    "    print(data[\"vis_feats\"].requires_grad)\n",
    "    break"
   ]
  },
  {
   "cell_type": "code",
   "execution_count": null,
   "metadata": {},
   "outputs": [],
   "source": []
  },
  {
   "cell_type": "code",
   "execution_count": null,
   "metadata": {},
   "outputs": [],
   "source": []
  },
  {
   "cell_type": "code",
   "execution_count": null,
   "metadata": {},
   "outputs": [],
   "source": []
  },
  {
   "cell_type": "code",
   "execution_count": 149,
   "metadata": {},
   "outputs": [
    {
     "data": {
      "text/plain": [
       "58.28"
      ]
     },
     "execution_count": 149,
     "metadata": {},
     "output_type": "execute_result"
    }
   ],
   "source": [
    "11656/200"
   ]
  },
  {
   "cell_type": "code",
   "execution_count": null,
   "metadata": {},
   "outputs": [],
   "source": [
    "import os\n",
    "gt_path = r\"C:\\Users\\dcsang\\PycharmProjects\\embedding\\breakfast\\groundTruth\"\n",
    "files = os.listdir(gt_path)\n",
    "labels = []\n",
    "for file in files:\n",
    "    if \"coffee\" in file:\n",
    "        print(file)\n",
    "        with open(os.path.join(gt_path, file), \"r\") as f:\n",
    "            temp = f.readlines()\n",
    "            labels.extend(temp)"
   ]
  },
  {
   "cell_type": "code",
   "execution_count": null,
   "metadata": {},
   "outputs": [],
   "source": [
    "labels"
   ]
  },
  {
   "cell_type": "code",
   "execution_count": 122,
   "metadata": {},
   "outputs": [],
   "source": [
    "la = set(labels)"
   ]
  },
  {
   "cell_type": "code",
   "execution_count": 124,
   "metadata": {},
   "outputs": [
    {
     "data": {
      "text/plain": [
       "{'SIL\\n',\n",
       " 'pour_coffee\\n',\n",
       " 'pour_milk\\n',\n",
       " 'pour_sugar\\n',\n",
       " 'spoon_sugar\\n',\n",
       " 'stir_coffee\\n',\n",
       " 'take_cup\\n',\n",
       " 'walk_in\\n',\n",
       " 'walk_out\\n'}"
      ]
     },
     "execution_count": 124,
     "metadata": {},
     "output_type": "execute_result"
    }
   ],
   "source": [
    "la"
   ]
  },
  {
   "cell_type": "code",
   "execution_count": null,
   "metadata": {},
   "outputs": [],
   "source": [
    "le = set(labels)"
   ]
  },
  {
   "cell_type": "code",
   "execution_count": 172,
   "metadata": {},
   "outputs": [],
   "source": []
  },
  {
   "cell_type": "code",
   "execution_count": 173,
   "metadata": {},
   "outputs": [],
   "source": []
  },
  {
   "cell_type": "code",
   "execution_count": null,
   "metadata": {},
   "outputs": [],
   "source": []
  },
  {
   "cell_type": "code",
   "execution_count": 182,
   "metadata": {},
   "outputs": [
    {
     "data": {
      "text/plain": [
       "True"
      ]
     },
     "execution_count": 182,
     "metadata": {},
     "output_type": "execute_result"
    }
   ],
   "source": [
    "outputs.requires_grad"
   ]
  },
  {
   "cell_type": "code",
   "execution_count": null,
   "metadata": {},
   "outputs": [],
   "source": []
  },
  {
   "cell_type": "code",
   "execution_count": 188,
   "metadata": {},
   "outputs": [],
   "source": [
    "import numpy as np"
   ]
  },
  {
   "cell_type": "code",
   "execution_count": 193,
   "metadata": {},
   "outputs": [],
   "source": [
    "f = r\"C:\\Users\\dcsang\\Downloads\\Compressed\\P03_cam01_P03_cereals\"\n",
    "f2 = r\"C:\\Users\\dcsang\\PycharmProjects\\embedding\\breakfast\\bf_kinetics_feat\\test\\P03_cam01_P03_cereals.npy\""
   ]
  },
  {
   "cell_type": "code",
   "execution_count": 194,
   "metadata": {},
   "outputs": [],
   "source": [
    "k = np.load(f2)"
   ]
  },
  {
   "cell_type": "code",
   "execution_count": 195,
   "metadata": {},
   "outputs": [
    {
     "data": {
      "text/plain": [
       "(832, 2048)"
      ]
     },
     "execution_count": 195,
     "metadata": {},
     "output_type": "execute_result"
    }
   ],
   "source": [
    "k.shape"
   ]
  },
  {
   "cell_type": "code",
   "execution_count": null,
   "metadata": {},
   "outputs": [],
   "source": []
  }
 ],
 "metadata": {
  "kernelspec": {
   "display_name": "Python 3",
   "language": "python",
   "name": "python3"
  },
  "language_info": {
   "codemirror_mode": {
    "name": "ipython",
    "version": 3
   },
   "file_extension": ".py",
   "mimetype": "text/x-python",
   "name": "python",
   "nbconvert_exporter": "python",
   "pygments_lexer": "ipython3",
   "version": "3.7.5"
  }
 },
 "nbformat": 4,
 "nbformat_minor": 2
}
